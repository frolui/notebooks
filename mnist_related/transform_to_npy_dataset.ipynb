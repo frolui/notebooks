{
 "cells": [
  {
   "cell_type": "code",
   "execution_count": 1,
   "id": "c314761b",
   "metadata": {},
   "outputs": [],
   "source": [
    "import os\n",
    "import numpy as np\n",
    "\n",
    "from re import search\n",
    "from PIL import Image\n",
    "import matplotlib.cm as cm\n",
    "import matplotlib.pyplot as plt\n",
    "\n",
    "%matplotlib inline "
   ]
  },
  {
   "cell_type": "code",
   "execution_count": 2,
   "id": "4ae01fd6",
   "metadata": {},
   "outputs": [],
   "source": [
    "# recursively get list of files in input directory\n",
    "def get_files_list(directory):\n",
    "    dir_list = os.walk(directory)\n",
    "    dir_list = [x for x in dir_list if not search('/\\.', x[0])]\n",
    "    \n",
    "    # initialize empty list to store files names\n",
    "    file_list = []\n",
    "    for i in dir_list:\n",
    "        for n in i[2]:\n",
    "            file_list.append((str(i[0])+'/'+str(n)).replace('//', '/')) \n",
    "        \n",
    "    return file_list"
   ]
  },
  {
   "cell_type": "code",
   "execution_count": 3,
   "id": "f23406a6",
   "metadata": {},
   "outputs": [
    {
     "data": {
      "text/plain": [
       "2084"
      ]
     },
     "execution_count": 3,
     "metadata": {},
     "output_type": "execute_result"
    }
   ],
   "source": [
    "# get list of files\n",
    "lst = get_files_list('/home/frolui/pet/map/numbers/')\n",
    "len(lst)"
   ]
  },
  {
   "cell_type": "code",
   "execution_count": 4,
   "id": "53a72ddd",
   "metadata": {},
   "outputs": [
    {
     "data": {
      "text/plain": [
       "['/home/frolui/pet/map/numbers/19_4_1/normal/0/0_19_4_1_18-27-31.png',\n",
       " '/home/frolui/pet/map/numbers/19_4_1/normal/0/0_19_4_1_18-11-43.png',\n",
       " '/home/frolui/pet/map/numbers/19_4_1/normal/0/0_19_4_1_18-11-17.png',\n",
       " '/home/frolui/pet/map/numbers/19_4_1/normal/0/0_19_4_1_18-24-44.png',\n",
       " '/home/frolui/pet/map/numbers/19_4_1/normal/0/0_19_4_1_18-20-37.png']"
      ]
     },
     "execution_count": 4,
     "metadata": {},
     "output_type": "execute_result"
    }
   ],
   "source": [
    "lst[0:5]"
   ]
  },
  {
   "cell_type": "code",
   "execution_count": 5,
   "id": "a24d9e29",
   "metadata": {},
   "outputs": [],
   "source": [
    "# count the number of png files for numbers 0-9 per number\n",
    "def count_per_number(filelist):\n",
    "    count = [0,0,0,0,0,0,0,0,0,0]\n",
    "    for i in filelist:\n",
    "        count[int(i[43])] += 1\n",
    "        \n",
    "    return count"
   ]
  },
  {
   "cell_type": "code",
   "execution_count": 6,
   "id": "6411feb2",
   "metadata": {},
   "outputs": [
    {
     "name": "stdout",
     "output_type": "stream",
     "text": [
      "[150, 407, 337, 291, 209, 190, 143, 122, 122, 113]\n"
     ]
    }
   ],
   "source": [
    "print(count_per_number(lst))"
   ]
  },
  {
   "cell_type": "code",
   "execution_count": 7,
   "id": "c4871fc0",
   "metadata": {},
   "outputs": [],
   "source": [
    "def transform_to_arrays(filelist):\n",
    "    # create empty arrays with images and labels\n",
    "    labels = np.empty([0], dtype = int)\n",
    "    # x - numver of rows in image, y - columns\n",
    "    x = Image.open(filelist[0]).size[1]\n",
    "    y = Image.open(filelist[0]).size[0]\n",
    "    # images is an empty 3d numpy array\n",
    "    images = np.empty((0,x,y))\n",
    "\n",
    "    for i in filelist:\n",
    "        # fill the array of labels\n",
    "        labels = np.append(labels, int(i[43]))\n",
    "        # fill the array of images (include RGB --> grayscale transformation)\n",
    "        images = np.vstack([ images, np.asarray(Image.open(i).convert('L'))[np.newaxis,...] ])\n",
    "    \n",
    "    return (labels, images)\n"
   ]
  },
  {
   "cell_type": "code",
   "execution_count": 8,
   "id": "a8fc4fff",
   "metadata": {},
   "outputs": [],
   "source": [
    "# get labels [2084] and images[2084,58,47] numpy arrays\n",
    "ars = transform_to_arrays(lst)"
   ]
  },
  {
   "cell_type": "code",
   "execution_count": 9,
   "id": "6f9fa6e2",
   "metadata": {},
   "outputs": [
    {
     "data": {
      "text/plain": [
       "7"
      ]
     },
     "execution_count": 9,
     "metadata": {},
     "output_type": "execute_result"
    }
   ],
   "source": [
    "# get labels[2083]\n",
    "ars[0][2083]"
   ]
  },
  {
   "cell_type": "code",
   "execution_count": 10,
   "id": "6691f787",
   "metadata": {},
   "outputs": [
    {
     "data": {
      "text/plain": [
       "array([[ 82.,  82.,  82., ..., 242., 181., 181.],\n",
       "       [ 82.,  82.,  82., ..., 242., 181., 181.],\n",
       "       [239., 239., 239., ..., 160.,  90.,  90.],\n",
       "       ...,\n",
       "       [247., 247., 247., ..., 254., 251., 251.],\n",
       "       [247., 247., 247., ..., 254., 251., 251.],\n",
       "       [249., 249., 249., ..., 252., 229., 229.]])"
      ]
     },
     "execution_count": 10,
     "metadata": {},
     "output_type": "execute_result"
    }
   ],
   "source": [
    "# get images[2083]\n",
    "ars[1][2083]"
   ]
  },
  {
   "cell_type": "code",
   "execution_count": 13,
   "id": "cbdc9e59",
   "metadata": {},
   "outputs": [
    {
     "data": {
      "text/plain": [
       "<matplotlib.image.AxesImage at 0x7fd3cba0eaa0>"
      ]
     },
     "execution_count": 13,
     "metadata": {},
     "output_type": "execute_result"
    },
    {
     "data": {
      "image/png": "[encoded data removed]",
      "text/plain": [
       "<Figure size 640x480 with 1 Axes>"
      ]
     },
     "metadata": {},
     "output_type": "display_data"
    }
   ],
   "source": [
    "# display numpy array as image\n",
    "plt.imshow(ars[1][2083], cmap=('Greys_r'))"
   ]
  },
  {
   "cell_type": "code",
   "execution_count": 12,
   "id": "00990ed8",
   "metadata": {},
   "outputs": [],
   "source": [
    "# save to npy file\n",
    "np.save('labels.npy',ars[0])\n",
    "np.save('images.npy',ars[1])"
   ]
  }
 ],
 "metadata": {
  "kernelspec": {
   "display_name": "Python 3 (ipykernel)",
   "language": "python",
   "name": "python3"
  },
  "language_info": {
   "codemirror_mode": {
    "name": "ipython",
    "version": 3
   },
   "file_extension": ".py",
   "mimetype": "text/x-python",
   "name": "python",
   "nbconvert_exporter": "python",
   "pygments_lexer": "ipython3",
   "version": "3.10.6"
  }
 },
 "nbformat": 4,
 "nbformat_minor": 5
}
